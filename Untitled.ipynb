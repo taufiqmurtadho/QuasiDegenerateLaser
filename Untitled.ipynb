{
 "cells": [
  {
   "cell_type": "code",
   "execution_count": 14,
   "id": "70da8c04",
   "metadata": {},
   "outputs": [],
   "source": [
    "import itertools\n",
    "import numpy as np"
   ]
  },
  {
   "cell_type": "code",
   "execution_count": 8,
   "id": "0995a50b",
   "metadata": {},
   "outputs": [],
   "source": [
    "a = [1,-1]\n",
    "b=list(itertools.product(a,repeat=3))"
   ]
  },
  {
   "cell_type": "code",
   "execution_count": 13,
   "id": "cad49d82",
   "metadata": {},
   "outputs": [
    {
     "data": {
      "text/plain": [
       "-1"
      ]
     },
     "execution_count": 13,
     "metadata": {},
     "output_type": "execute_result"
    }
   ],
   "source": [
    "b[1][2]"
   ]
  },
  {
   "cell_type": "code",
   "execution_count": 57,
   "id": "2c4e45b4",
   "metadata": {},
   "outputs": [],
   "source": [
    "def generate_all_special_pmatrices(N):\n",
    "    alignment = [1,-1]\n",
    "    all_possible_sequences = list(itertools.product(alignment, repeat=N-1))\n",
    "    pmatrices = []\n",
    "    for i in range(2**(N-1)):\n",
    "        pmatrix = np.identity(N)\n",
    "        for j in range(N-1):\n",
    "            pmatrix[0,j+1] = all_possible_sequences[i][j]\n",
    "            pmatrix[j+1,0] = pmatrix[0,j+1]\n",
    "        for k in range(1,N-1):\n",
    "            for l in range(k+1, N-1):\n",
    "                print((k,l))\n",
    "                if pmatrix[0,k] == pmatrix[0,l]:\n",
    "                    pmatrix[k,l] = 1\n",
    "                else:\n",
    "                    pmatrix[k,l] = -1\n",
    "        pmatrices.append(pmatrix)\n",
    "    return pmatrices"
   ]
  },
  {
   "cell_type": "code",
   "execution_count": 58,
   "id": "ef2cf955",
   "metadata": {},
   "outputs": [
    {
     "data": {
      "text/plain": [
       "[array([[1., 1., 1.],\n",
       "        [1., 1., 0.],\n",
       "        [1., 0., 1.]]),\n",
       " array([[ 1.,  1., -1.],\n",
       "        [ 1.,  1.,  0.],\n",
       "        [-1.,  0.,  1.]]),\n",
       " array([[ 1., -1.,  1.],\n",
       "        [-1.,  1.,  0.],\n",
       "        [ 1.,  0.,  1.]]),\n",
       " array([[ 1., -1., -1.],\n",
       "        [-1.,  1.,  0.],\n",
       "        [-1.,  0.,  1.]])]"
      ]
     },
     "execution_count": 58,
     "metadata": {},
     "output_type": "execute_result"
    }
   ],
   "source": [
    "generate_all_special_pmatrices(3)"
   ]
  },
  {
   "cell_type": "code",
   "execution_count": 24,
   "id": "40856651",
   "metadata": {},
   "outputs": [],
   "source": [
    "alignment = [1,-1]\n",
    "sequences = list(itertools.product(alignment, repeat=2))"
   ]
  },
  {
   "cell_type": "code",
   "execution_count": 27,
   "id": "2c8ad9a2",
   "metadata": {},
   "outputs": [
    {
     "data": {
      "text/plain": [
       "1"
      ]
     },
     "execution_count": 27,
     "metadata": {},
     "output_type": "execute_result"
    }
   ],
   "source": [
    "sequences[1][0]"
   ]
  },
  {
   "cell_type": "code",
   "execution_count": null,
   "id": "4e429d87",
   "metadata": {},
   "outputs": [],
   "source": []
  }
 ],
 "metadata": {
  "kernelspec": {
   "display_name": "Python 3 (ipykernel)",
   "language": "python",
   "name": "python3"
  },
  "language_info": {
   "codemirror_mode": {
    "name": "ipython",
    "version": 3
   },
   "file_extension": ".py",
   "mimetype": "text/x-python",
   "name": "python",
   "nbconvert_exporter": "python",
   "pygments_lexer": "ipython3",
   "version": "3.7.7"
  }
 },
 "nbformat": 4,
 "nbformat_minor": 5
}
